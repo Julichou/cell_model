{
 "cells": [
  {
   "cell_type": "code",
   "execution_count": 3,
   "id": "15c64359-eebb-4cb2-be4c-697b59819250",
   "metadata": {},
   "outputs": [],
   "source": [
    "import pandas as pd\n",
    "import numpy as np\n",
    "import matplotlib.pyplot as plt\n",
    "import seaborn as sns\n",
    "import math\n",
    "\n",
    "data_folder = './Data/'"
   ]
  },
  {
   "cell_type": "code",
   "execution_count": null,
   "id": "7a58e891-2cbe-4397-b7e9-e15c73ade489",
   "metadata": {},
   "outputs": [],
   "source": [
    "## Importing the data\n",
    "\n",
    "organism = pd.read_excel(data_folder+'machdamitwasduwillst.xlsx')\n",
    "organism.header()"
   ]
  },
  {
   "cell_type": "code",
   "execution_count": null,
   "id": "4c7bb8f1-75d2-44a5-b068-db92acd5155e",
   "metadata": {},
   "outputs": [],
   "source": [
    "## Defining the constant\n",
    "\n",
    "## Membrane parameters; \"mb\" refers to \"membrane\"; \"permit\" refers to \"permittivity\"\n",
    "mb_permit = \n",
    "\n",
    "## Particule parameters; \"part\" refers to \"particule\"\n",
    "part_radius = \n",
    "part_permit = \n",
    "part_elec_conductivity = \n",
    "\n",
    "## Medium parameters; \"med\" refers to \"medium\"\n",
    "med_elec_conductivity = \n",
    "med_permit = \n",
    "\n",
    "vaccuum_permit =\n",
    "## Frequency\n",
    "f = \n",
    "## Field angular frequency \n",
    "anq_freq = 2*math.pi*f"
   ]
  },
  {
   "cell_type": "code",
   "execution_count": null,
   "id": "48805c4b-78b4-43f3-a43e-02e627ab4dd4",
   "metadata": {},
   "outputs": [],
   "source": [
    "## Calculating the particule and medium complex permittivity\n",
    "\n",
    "part_complex_permit = part_permit*vaccuum_permit-1j(part_elec_conductivity/ang_freq)\n",
    "med_complex_permit = med_permit*vaccuum_permit-1j(med_elec_conductivity/ang_freq)"
   ]
  },
  {
   "cell_type": "code",
   "execution_count": null,
   "id": "833b270e-b6dd-48ec-a654-96aab2e813f2",
   "metadata": {},
   "outputs": [],
   "source": [
    "## Calculating the Clausius-Mossotti factor\n",
    "\n",
    "CM_factor = (part_complex_permit - medium_complex_permit)/(part_complex_permit + 2*medium_complex_permit)"
   ]
  },
  {
   "cell_type": "code",
   "execution_count": null,
   "id": "24f521eb-b3e6-49da-a200-f82445e280e3",
   "metadata": {},
   "outputs": [],
   "source": [
    "## Calculating the dipole moment\n",
    "\n",
    "dipole_moment = 4*math.pi*mb_permit*vaccuum_permit*CM_factor*(part_radius**3)*electric_field"
   ]
  }
 ],
 "metadata": {
  "kernelspec": {
   "display_name": "Python [conda env:.conda-adaexam] *",
   "language": "python",
   "name": "conda-env-.conda-adaexam-py"
  },
  "language_info": {
   "codemirror_mode": {
    "name": "ipython",
    "version": 3
   },
   "file_extension": ".py",
   "mimetype": "text/x-python",
   "name": "python",
   "nbconvert_exporter": "python",
   "pygments_lexer": "ipython3",
   "version": "3.8.12"
  }
 },
 "nbformat": 4,
 "nbformat_minor": 5
}
