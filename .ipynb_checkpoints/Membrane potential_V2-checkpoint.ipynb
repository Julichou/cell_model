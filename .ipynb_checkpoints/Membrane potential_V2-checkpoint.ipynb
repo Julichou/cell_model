{
 "cells": [
  {
   "cell_type": "markdown",
   "id": "58844921-d508-43e5-a888-4582633a3158",
   "metadata": {},
   "source": [
    "## Aim of the notebook\n",
    "\n",
    "The aim of this notebook is to calculate the membrane potential during a nanosecond electric pulse.  The biological system considered will be *Saccharomyces cerevisiae*.  \n",
    "The model consideres a spherical cell with an organelle in it.  \n",
    "*This notebook is incomplete as the way to calculate the Laplace transform of the electriccal field has not been founded.*"
   ]
  },
  {
   "cell_type": "markdown",
   "id": "62c4e8d8-d0fa-45a2-84a8-1b2942d7689e",
   "metadata": {},
   "source": [
    "## References:  \n",
    "\n",
    "All the formulas are derived from:  \n",
    "\"Theoretical Evaluation of Voltage Inducement on Internal Membranes of Biological Cells Exposed to Electric Fields\" (Tadej Kotnik and Damijan Miklavcic, 2006)"
   ]
  },
  {
   "cell_type": "code",
   "execution_count": null,
   "id": "71f61ff7-305c-4976-a86e-bfacada7e769",
   "metadata": {},
   "outputs": [],
   "source": [
    "import math as m\n",
    "import sympy"
   ]
  },
  {
   "cell_type": "code",
   "execution_count": 1,
   "id": "eb1d0307-2d43-4673-8618-cf83dcb74e12",
   "metadata": {},
   "outputs": [],
   "source": [
    "# TO DO: add all the variables in the functions"
   ]
  },
  {
   "cell_type": "code",
   "execution_count": null,
   "id": "58a8516c-347b-4a07-82e1-800738d623a6",
   "metadata": {},
   "outputs": [],
   "source": [
    "''' Function that calculate the ccomplex frequency '''\n",
    "\n",
    "# Nep_freq: Neper frequency (Np/s)\n",
    "# rad_freq: radian frequency (rad/s)\n",
    "\n",
    "def s():\n",
    "    return Nep_freq+1j*rad_freq # complexe frequency"
   ]
  },
  {
   "cell_type": "code",
   "execution_count": null,
   "id": "318d41b1-289e-4b56-9bea-e63b52d24adb",
   "metadata": {},
   "outputs": [],
   "source": [
    "''' Function to calculate: in FD, the complex conductivity, and in TD, the admittivity operator '''\n",
    "\n",
    "# FD: frequency domain\n",
    "# TD: time domain\n",
    "# conduct_1i: conductivity of the organelle interior\n",
    "# perm_1i: the permittivity of the organelle interior\n",
    "\n",
    "def X_1i(domain):\n",
    "    if domain == \"FD\":\n",
    "        ang_freq = 2*m.pi*f # the angular frequency\n",
    "        return conduct_1i+1j*ang_freq*perm_1i\n",
    "    elif domain == \"TD\":\n",
    "        return conduct_1i+perm_1i*s"
   ]
  },
  {
   "cell_type": "code",
   "execution_count": null,
   "id": "0acc508c-d1f7-4729-975d-5f9d6b5e163a",
   "metadata": {},
   "outputs": [],
   "source": [
    "## TO DO\n",
    "# Repeat the previous function for X_2i, X_1m, X_2m, X_e\n",
    "\n",
    "# 1i : refers to organelle interior\n",
    "# 1m : refers to organelle membrane \n",
    "# 2i : refers to cell cytoplasm\n",
    "# 2m : refers to cell membrane"
   ]
  },
  {
   "cell_type": "code",
   "execution_count": 5,
   "id": "13372e36-e361-410f-9e20-207c548b6a1d",
   "metadata": {},
   "outputs": [],
   "source": [
    "''' Function that calculate the electrical field '''\n",
    "\n",
    "# E_0: amplitude of the field that is reached at the end of the risetime (5e4 V/m)\n",
    "# t: time\n",
    "# T: risetime (1 ns)\n",
    "# u(x): signal value at time x?\n",
    "\n",
    "def E(t):\n",
    "    return E_0*((t/T)*u(t)-((t-T)/T)*u(t-T))"
   ]
  },
  {
   "cell_type": "code",
   "execution_count": null,
   "id": "6faaabd6-8fe7-4f2e-9f2c-a6e9a026881f",
   "metadata": {},
   "outputs": [],
   "source": [
    "''' Function that calculate the electric field in complexe frequency space'''\n",
    "\n",
    "def E(s):\n",
    "    return E_0*(1-m.exp(-s*T))/(s**2*T)"
   ]
  },
  {
   "cell_type": "code",
   "execution_count": null,
   "id": "5f015cdd-b4a4-4fa5-9f9b-ceb0af32d86c",
   "metadata": {},
   "outputs": [],
   "source": [
    "# Example of functions to calculate Laplace transform and inverse Laplace transform\n",
    "\n",
    "t, s = sympy.symbols('t, s')\n",
    "a = sympy.symbols('a', real=True, positive=True)\n",
    "f = sympy.exp(-a*t)\n",
    "f\n",
    "def L(f):\n",
    "    return sympy.laplace_transform(f, t, s, noconds=True)\n",
    "def invL(F):\n",
    "    return sympy.inverse_laplace_transform(F, s, t)"
   ]
  },
  {
   "cell_type": "code",
   "execution_count": null,
   "id": "a05c8eb0-df5b-4588-b59f-a21f690cd8f4",
   "metadata": {},
   "outputs": [],
   "source": [
    "''' Function to calculate M that appears in the following equations '''\n",
    "\n",
    "# R_1: organelle radius \n",
    "# d_1: thickness of organelle membrane\n",
    "# R_2: cell radius\n",
    "# d_2: thickness of cell membrane\n",
    "\n",
    "def M():\n",
    "    return 2*(R_1-d_1)**3*(X_1i-X_1m)*((R_2-d_2)**3*(X_1m-X_2i)*(2*(R_2-d_2)**3*(X_2i-X_2m)*(X_2m-X_e)+R_2**3*(X_2i+2*X_2m)*(X_2m+2*X_e))+R_1**3*(2*X_1m+X_2i)((R_2-d_2)**3*(2*X_2i+X_2m)*(X_2m-Xe)+R_2**3*(X_2i-X_2m)*(X_2m+2*Xe)))+R_1**3*(X_1i+2*X_1m)*((R_2-d_2)**3*(X_1m+2*X_2i)*(2*(R_2-d_2)**3*(X_2i-X_2m)*(X_2m_X_e)+R_2**3*(X_2i+2*X_2m)*(X_2m+2*X_e))+2*R_1**3*(X_1m-X_2i)*((R_2-d_2)**3*(2*X_2i+X_2m)*(X_2m-X_e)+R_2**2*(X_2i-X_2m)*(X_2m+2*X_e)))"
   ]
  },
  {
   "cell_type": "code",
   "execution_count": null,
   "id": "a3b4a50a-6a54-4ef6-9b8f-2a5d2be7b135",
   "metadata": {},
   "outputs": [],
   "source": [
    "''' Function that calculate the membrane potential in FD '''\n",
    "\n",
    "# E: Electric field\n",
    "# theta: angle with respect to the direction of the field\n",
    "\n",
    "def membrane_potential_FD():\n",
    "    return ((3*E(t)*R_2*d_2*((R_1-d_1)**3*(X_1i-X_1m)*(2*(3*R_2**2-3*R_2*d_2+d_2**2)*((R_2-d_2)**3*(X_1m-X_2i)+R_1**3*(2*X_1m+X_2i))*X_2i+(3*R_2*d_2-d_2**2)*(2(R_2-d_2)**3*(X_1m-X_2i)-R_1**3*(2*X_1m+X_2i))*X_2m)+(R_1**3)*(X_1i+2*X_1m)*((3*R_2**2-3*R_2*d_2+d_2**2)((R_2-d_2)**3*(X_1m+2*X_2i)+2*R_1**3*(X_1m-X_2i))*X_2i+(3*R_2*d_2-d_2**2)((R_2-d_2)**3*(X_1m+2*X_2i)-R_1**3(X_1m-X_2i))*X_2m))*X_e)/M)*m.cos(theta)"
   ]
  },
  {
   "cell_type": "code",
   "execution_count": null,
   "id": "a7d14c5d-596e-4bab-8dd4-b1da7d80c405",
   "metadata": {},
   "outputs": [],
   "source": [
    "''' Function that calculate the organelle potential in FD '''\n",
    "\n",
    "def organelle_potential_FD():\n",
    "    return ((27*E(t)*R_1*R_2**2*d_1*(R_2-d_2)**3*(3*R_1**2*X_1i-d_1*(3*R_1-d_1)*(X_1i-X_1m))*X_2i*X_2m*X_e)/M)*m.cos(theta)"
   ]
  },
  {
   "cell_type": "code",
   "execution_count": null,
   "id": "b82746e7-6a17-488b-8720-8c4c805ddf0c",
   "metadata": {},
   "outputs": [],
   "source": [
    "''' Function that calculate the membrane potential in TD '''\n",
    "\n",
    "# E: Electric field\n",
    "# theta: angle with respect to the direction of the field\n",
    "\n",
    "# TO FINISH\n",
    "def membrane_potential_TD():\n",
    "    return '''the inverse_laplace transform of'''((3*E(s)*R_2*d_2*((R_1-d_1)**3*(X_1i-X_1m)*(2*(3*R_2**2-3*R_2*d_2+d_2**2)*((R_2-d_2)**3*(X_1m-X_2i)+R_1**3*(2*X_1m+X_2i))*X_2i+(3*R_2*d_2-d_2**2)*(2(R_2-d_2)**3*(X_1m-X_2i)-R_1**3*(2*X_1m+X_2i))*X_2m)+(R_1**3)*(X_1i+2*X_1m)*((3*R_2**2-3*R_2*d_2+d_2**2)((R_2-d_2)**3*(X_1m+2*X_2i)+2*R_1**3*(X_1m-X_2i))*X_2i+(3*R_2*d_2-d_2**2)((R_2-d_2)**3*(X_1m+2*X_2i)-R_1**3(X_1m-X_2i))*X_2m))*X_e)/M)*m.cos(theta)"
   ]
  },
  {
   "cell_type": "code",
   "execution_count": null,
   "id": "e3aec9a0-1e1c-4e1c-b60f-47609274dff3",
   "metadata": {},
   "outputs": [],
   "source": [
    "''' Function that calculate the organelle potential in TD '''\n",
    "\n",
    "# TO FINISH\n",
    "def organelle_potential_TD():\n",
    "    return ''' inverse laplace transform of'''((27*E(s)*R_1*R_2**2*d_1*(R_2-d_2)**3*(3*R_1**2*X_1i-d_1*(3*R_1-d_1)*(X_1i-X_1m))*X_2i*X_2m*X_e)/M)*m.cos(theta)"
   ]
  }
 ],
 "metadata": {
  "kernelspec": {
   "display_name": "Python [conda env:.conda-adaexam] *",
   "language": "python",
   "name": "conda-env-.conda-adaexam-py"
  },
  "language_info": {
   "codemirror_mode": {
    "name": "ipython",
    "version": 3
   },
   "file_extension": ".py",
   "mimetype": "text/x-python",
   "name": "python",
   "nbconvert_exporter": "python",
   "pygments_lexer": "ipython3",
   "version": "3.8.12"
  }
 },
 "nbformat": 4,
 "nbformat_minor": 5
}
