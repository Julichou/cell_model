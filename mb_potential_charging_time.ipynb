{
 "cells": [
  {
   "cell_type": "markdown",
   "id": "50a489de-d74b-4105-aff2-a51ba7f00568",
   "metadata": {},
   "source": [
    "## Reference\n",
    "\n",
    "All the following formulas are extracted from:  \n",
    "\"Dielectric properties of yeast cells as determined by electrorotation\" (Hölzel and Lamprecht, 1992) "
   ]
  },
  {
   "cell_type": "code",
   "execution_count": 1,
   "id": "86fa8999-910f-4866-8626-602c16a4560e",
   "metadata": {},
   "outputs": [],
   "source": [
    "''' Function to calculate the charging time of the cell (in seconds) '''\n",
    "\n",
    "## Variables:\n",
    "#cyto_cond: cyto conductivity (m**2/F)\n",
    "# med_res: medium resistivity (m**2/F)\n",
    "# mb_cap: capacitance of the membrane surface per unit area (ohm/m)\n",
    "# cell_size: cell diameter (m)\n",
    "\n",
    "def charging_time(cyto_cond, med_cond, mb_cap, cell_size):\n",
    "    cyto_res = 1/cyto_cond # calculating cytoplasm resistivity\n",
    "    med_res = 1/med_cond # calculating medium resistivity\n",
    "    return ((cyto_res+(med_res/2))*mb_cap*cell_size)/2"
   ]
  },
  {
   "cell_type": "code",
   "execution_count": 7,
   "id": "5c2dc493-6681-47b4-a5d2-09a8fcaacef9",
   "metadata": {},
   "outputs": [
    {
     "data": {
      "text/plain": [
       "'The charging time for your biological system is 3.6e-08 seconds'"
      ]
     },
     "execution_count": 7,
     "metadata": {},
     "output_type": "execute_result"
    }
   ],
   "source": [
    "\"The charging time for your biological system is {:.2} seconds\".format(charging_time(cyto_cond = 50,\n",
    "                                                                                  med_cond = 0.546,\n",
    "                                                                                  mb_cap=1.1e-2,\n",
    "                                                                                  cell_size=7e-6))"
   ]
  }
 ],
 "metadata": {
  "kernelspec": {
   "display_name": "Python [conda env:.conda-adaexam] *",
   "language": "python",
   "name": "conda-env-.conda-adaexam-py"
  },
  "language_info": {
   "codemirror_mode": {
    "name": "ipython",
    "version": 3
   },
   "file_extension": ".py",
   "mimetype": "text/x-python",
   "name": "python",
   "nbconvert_exporter": "python",
   "pygments_lexer": "ipython3",
   "version": "3.8.12"
  }
 },
 "nbformat": 4,
 "nbformat_minor": 5
}
