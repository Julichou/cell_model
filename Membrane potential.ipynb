{
 "cells": [
  {
   "cell_type": "code",
   "execution_count": 55,
   "id": "b125dc34-1292-49c0-aa17-92a51b96848b",
   "metadata": {},
   "outputs": [],
   "source": [
    "import math as m\n",
    "import scipy.special.cython_special as csc\n",
    "import scipy.integrate as integrate\n",
    "from scipy.misc import derivative\n",
    "import sympy as sym"
   ]
  },
  {
   "cell_type": "markdown",
   "id": "951a2730-7e35-498a-9ed3-a1cc16d35aa0",
   "metadata": {},
   "source": [
    "## Aim of the notebook\n",
    "\n",
    "The aim of this notebook is to calculate the membrane potential during a nanosecond electric pulse. The biological system considered will be *Saccharomyces cerevisiae*.  \n",
    "*This notebook is not finish as it appeared that the functions are very complicated to code...*"
   ]
  },
  {
   "cell_type": "markdown",
   "id": "9a67e328-92f9-468a-9da4-c04cac8e0679",
   "metadata": {},
   "source": [
    "## References:  \n",
    "\n",
    "All the formulas are derived from:  \n",
    "\"Self-consistent simulations of electroporation dynamics in biological cells subjected to ultrashort electrical pulses\" (Joshi et al, 2001)"
   ]
  },
  {
   "cell_type": "code",
   "execution_count": null,
   "id": "3791ad94-4421-4cd8-8b56-618f00deaeb1",
   "metadata": {},
   "outputs": [],
   "source": [
    "## The time used, from 0=beginning of the pulse, to 0.5 s, with dt=1e-11 s\n",
    "\n",
    "t = np.arange(0, 0.5, 1e-11)"
   ]
  },
  {
   "cell_type": "code",
   "execution_count": 21,
   "id": "a6645de6-ef9a-44db-bb7f-2de1ae62ea71",
   "metadata": {},
   "outputs": [],
   "source": [
    "''' Function that calculate the energy per unit area of intact membrane '''\n",
    "\n",
    "# gamma_0: 1e-3 J/m**2\n",
    "\n",
    "def gamma(r):\n",
    "    gamma_0 = 10**-3\n",
    "    return gamma_0*(1-pore_radius**2/r_inf**2)"
   ]
  },
  {
   "cell_type": "code",
   "execution_count": 49,
   "id": "a543f0ee-74a5-495f-b75d-64ca57babf41",
   "metadata": {},
   "outputs": [],
   "source": [
    "''' Function to calculate the energy of hydrophobic pore formation '''\n",
    "\n",
    "# med_perm: permittivity of medium\n",
    "# mb_perm: permittivity of mb\n",
    "# r0: characteristic length scale over which the water properties change between the interface and the bulk\n",
    "# mb_width: thickness of membrane\n",
    "# I0, I1: modified Bessel's function of order 0th and first order\n",
    "# V: transmembrane potential\n",
    "\n",
    "def E_phob(pore_radius):\n",
    "    a_p = (med_perm - mb_perm)/2*mb_width\n",
    "    I0 = csc.kn(0, pore_radius/r0) # to calculate the modified Bessel's functions\n",
    "    I1 = csc.kn(1, pore_radius/r0)\n",
    "    return 2*m.pi*mb_width*pore_radius*5e-2*(I1/I0)-m.pi*a_p*(V**2)*(pore_radius**2)\n",
    "    "
   ]
  },
  {
   "cell_type": "code",
   "execution_count": 4,
   "id": "368156d0-e887-4cec-b0c1-ee98904b3815",
   "metadata": {},
   "outputs": [],
   "source": [
    "''' Function to calculate the derivative of the previous function according to r '''\n",
    "\n",
    "def E_phob_derivative():\n",
    "    a_p = (med_perm - mb_perm)/2*mb_width\n",
    "    I0 = csc.kn(0, pore_radius/r0) # to calculate the modified Bessel's functions\n",
    "    I1 = csc.kn(1, pore_radius/r0)  \n",
    "    return 2*m.pi*mb_width*5e-2*(I1/I0)+2*m.pi*mb_width*pore_radius*5e-2*(kvp(0,r/r0,n=1)*I0-I1*kvp(1,r/r0,n=1))-m.pi*a_p*(V**2)*2*r"
   ]
  },
  {
   "cell_type": "code",
   "execution_count": 21,
   "id": "d81a9cc3-99c4-4e0a-8ca5-39cea37339f1",
   "metadata": {},
   "outputs": [],
   "source": [
    "''' Function to calculate the energy of hydrophilic pore formation '''\n",
    "\n",
    "# e_pore: energy per unit length of pore perimeter\n",
    "# med_perm: permittivity of medium\n",
    "# mb_perm: permittivity of mb\n",
    "# mb_width: thickness of membrane\n",
    "# I0, I1: Bessel's function of order 0th and first order\n",
    "# V: transmembrane potential\n",
    "# C: constant 9.67e-15 J**(1/4).m\n",
    "\n",
    "def E_phil(r):\n",
    "    a_p = (med_perm - mb_perm)/2*mb_width\n",
    "    return 2*m.pi*e_pore*pore_radius-(integrate.quad(lambda x: 2*m.pi*gamma(x)*x, 0, pore_radius)[0])+(C/pore_radius)**2-m.pi*a_p*(V**2)*(pore_radius**2)"
   ]
  },
  {
   "cell_type": "code",
   "execution_count": 6,
   "id": "0b7747ee-8ab7-4fe2-bfea-307c07dabf6a",
   "metadata": {},
   "outputs": [],
   "source": [
    "''' Rate of creation of hydrophobic pore accroding to dr and dt '''\n",
    "\n",
    "# k_B: Boltmann's constant\n",
    "# T: temperature\n",
    "# v_c: attempt rate density\n",
    "# dr: 0.4 A\n",
    "# dt: 1e-11 s\n",
    "\n",
    "def S(pore_radius):\n",
    "    r = sym.Symbol('r')\n",
    "    I0 = csc.kn(0, pore_radius/r0)\n",
    "    I1 = csc.kn(1, pore_radius/r0)\n",
    "    E = 2*m.pi*mb_width*r*5e-2*(I1/I0)-m.pi*a_p*(V**2)*(r**2)\n",
    "    return ((v_c*mb_width)/(k_B*T))*E_phob_derivative()*m.exp(-E_phob(pore_radius)/(k_B*T))*dr*dt"
   ]
  },
  {
   "cell_type": "code",
   "execution_count": null,
   "id": "bf2a0d0e-55e5-4bd3-81f9-0982d7bd48bf",
   "metadata": {},
   "outputs": [],
   "source": [
    "''' Function to assess the pore dynamic '''\n",
    "\n",
    "# n(r,t): gives the pore density distribution\n",
    "\n",
    "def "
   ]
  },
  {
   "cell_type": "code",
   "execution_count": 7,
   "id": "b0ba68dd-9feb-48a7-9321-d75f67b00e54",
   "metadata": {},
   "outputs": [],
   "source": [
    "''' Applied electric field along the z-axis '''\n",
    "\n",
    "# field: the field value applied on the cell\n",
    "# delta_t: the length of the pulse (s)\n",
    "# t: the time at which the test is done, repeated every d_t=1e-11 s for at least 0.5 s\n",
    "\n",
    "def elec_field(t, field):\n",
    "    if t<delta_t:\n",
    "        return field\n",
    "    else:\n",
    "        return 0"
   ]
  },
  {
   "cell_type": "code",
   "execution_count": 25,
   "id": "a1641c78-e2ff-447a-835e-38cebd02a11d",
   "metadata": {},
   "outputs": [],
   "source": [
    "''' Function that calculate the membrane potential '''\n",
    "\n",
    "## Variables:\n",
    "# theta: angle with respect to the z-axis\n",
    "# med_elec_conductivity: conductivity of the medium\n",
    "# cyto_elec_conductivity: conductivity of the cytoplasm\n",
    "# a: cytoplasm radius\n",
    "# b: cell radius\n",
    "\n",
    "def mem_pot(t):\n",
    "    return A(t)*m.cos(theta)*((b-(b**3/a**2))*(1+2*med_elec_conductivity/cyto_elec_conductivity)/\n",
    "                              ((b/a)**3+2*med_elec_conductivity/cyto_elec_conductivity)-(b-1))+3*m.cos(theta)*elec_field(t)*(med_elec_conductivity/cyto_elec_conductivity)/((b/a)**3+2*med_elec_conductivity/cyto_elec_conductivity)\n",
    "    "
   ]
  },
  {
   "cell_type": "code",
   "execution_count": null,
   "id": "95266520-9dfb-4728-b1a2-ee2870d5a27e",
   "metadata": {},
   "outputs": [],
   "source": [
    "def inner_potential(r,t):\n",
    "    return "
   ]
  }
 ],
 "metadata": {
  "kernelspec": {
   "display_name": "Python [conda env:.conda-adaexam] *",
   "language": "python",
   "name": "conda-env-.conda-adaexam-py"
  },
  "language_info": {
   "codemirror_mode": {
    "name": "ipython",
    "version": 3
   },
   "file_extension": ".py",
   "mimetype": "text/x-python",
   "name": "python",
   "nbconvert_exporter": "python",
   "pygments_lexer": "ipython3",
   "version": "3.8.12"
  }
 },
 "nbformat": 4,
 "nbformat_minor": 5
}
